{
 "cells": [
  {
   "cell_type": "markdown",
   "metadata": {},
   "source": [
    "## Questão 2   \n",
    "\n",
    "\n",
    "Dado um array desordenado de números inteiros positivos, existe um único número que se repete. Faça uma função que recebe este array, e retorna o inteiro duplicado. \n",
    "\n",
    "\n",
    "Exemplo:\n",
    "\n",
    "\n",
    "Entrada:  \n",
    "[1,6,3,9,45,67,98,0,3,123] \n",
    "\n",
    "\n",
    "Saída:  \n",
    "3\n",
    "\n",
    "\n",
    "Será adotada a Linguagem Python\n",
    "\n",
    "---"
   ]
  },
  {
   "cell_type": "code",
   "execution_count": 1,
   "metadata": {},
   "outputs": [],
   "source": [
    "array = [1,6,3,9,45,67,98,0,3,123]"
   ]
  },
  {
   "cell_type": "code",
   "execution_count": 2,
   "metadata": {},
   "outputs": [],
   "source": [
    "def retorna_igual(array):\n",
    "    array.sort()\n",
    "    for i in range(len(array)-1):\n",
    "        if(array[i] == array[i+1]):\n",
    "            return array[i]"
   ]
  },
  {
   "cell_type": "code",
   "execution_count": 3,
   "metadata": {},
   "outputs": [
    {
     "name": "stdout",
     "output_type": "stream",
     "text": [
      "3\n"
     ]
    }
   ],
   "source": [
    "print(retorna_igual(array))"
   ]
  }
 ],
 "metadata": {
  "kernelspec": {
   "display_name": "Python 3",
   "language": "python",
   "name": "python3"
  },
  "language_info": {
   "codemirror_mode": {
    "name": "ipython",
    "version": 3
   },
   "file_extension": ".py",
   "mimetype": "text/x-python",
   "name": "python",
   "nbconvert_exporter": "python",
   "pygments_lexer": "ipython3",
   "version": "3.6.5"
  }
 },
 "nbformat": 4,
 "nbformat_minor": 2
}
