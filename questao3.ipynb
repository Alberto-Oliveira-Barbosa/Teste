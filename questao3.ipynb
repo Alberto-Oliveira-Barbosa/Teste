{
 "cells": [
  {
   "cell_type": "markdown",
   "metadata": {},
   "source": [
    "## Questão 3  \n",
    "\n",
    "Você tem um diretório de arquivos do tipo xls em um Data Lake. Por padrão, ao adicionar um arquivo neste diretório é necessário que se renomeie o arquivo para “nome_do_arquivo-dia-mês-ano”, onde nome_do_arquivo é o nome original do arquivo, e dia-mês-ano é a data em que o arquivo está sendo colocado no diretório. Este padrão é importante para que se mantenha o versionamento de alguns arquivos, por exemplo. A seguir, você tem exemplos de nomes de arquivos presentes no diretório:    \n",
    "\n",
    "\n",
    "processamento-13-04-2019.xls    \n",
    "processamento-18-05-2019.xls    \n",
    "transformacao-19-06-2017.xls   \n",
    "transformacao-19-06-2019.xls \n",
    "\n",
    "\n",
    "Faça uma função que receba o nome original de um arquivo e uma lista contendo todos os arquivos de um diretório, e retorne o nome do arquivo mais recente. \n",
    "\n",
    "Exemplo: \n",
    "\n",
    "\n",
    "Entrada:  \n",
    "\n",
    "\n",
    "([“processamento-13-04-2019.xls”, “transformacao-19-06-2017.xls”, “transformacao-19-06-2019.xls”, “processamento-18-05-2019.xls”] ,”transformacao”) \n",
    "\n",
    "\n",
    "Saída:  \n",
    "\n",
    "\n",
    "transformacao-19-06-2019.xls \n",
    "\n",
    "\n",
    "OBS: Será adotada a linguagem Python\n",
    "\n",
    "---"
   ]
  },
  {
   "cell_type": "markdown",
   "metadata": {},
   "source": [
    "## Bibliotecas usadas"
   ]
  },
  {
   "cell_type": "code",
   "execution_count": 1,
   "metadata": {},
   "outputs": [],
   "source": [
    "from datetime import date\n",
    "from pandas import DataFrame"
   ]
  },
  {
   "cell_type": "markdown",
   "metadata": {},
   "source": [
    "# Carga dos dados"
   ]
  },
  {
   "cell_type": "code",
   "execution_count": 2,
   "metadata": {},
   "outputs": [],
   "source": [
    "arquivo = (['processamento-13-04-2019.xls', 'transformacao-19-06-2017.xls', 'transformacao-19-06-2019.xls', 'processamento-18-05-2019.xls'] ,'transformacao')"
   ]
  },
  {
   "cell_type": "code",
   "execution_count": 3,
   "metadata": {},
   "outputs": [
    {
     "name": "stdout",
     "output_type": "stream",
     "text": [
      "(['processamento-13-04-2019.xls', 'transformacao-19-06-2017.xls', 'transformacao-19-06-2019.xls', 'processamento-18-05-2019.xls'], 'transformacao')\n"
     ]
    }
   ],
   "source": [
    "# Verifica o arquivo\n",
    "print(arquivo)"
   ]
  },
  {
   "cell_type": "code",
   "execution_count": 4,
   "metadata": {},
   "outputs": [],
   "source": [
    "def retorna_nome(arquivo):\n",
    "    '''Função que retorna o nome do arquivo mais recente, usando a data dos arquivos do diretório\n",
    "\n",
    "        Recebe:\n",
    "\n",
    "        - Uma tupla no formato (lista de arquivos do diretório, nome original do arquivo) '''\n",
    "    \n",
    "    # Variáveis auxiliares\n",
    "    nome = []\n",
    "    data = []\n",
    "\n",
    "\n",
    "\n",
    "    # percorre a lista com as datas e separa os dados para as transformações.\n",
    "    for i in  arquivo[0]:\n",
    "\n",
    "        sem_ponto = str(i).split('.')[0]\n",
    "        dia,mes,ano = str(sem_ponto).split('-')[1:]\n",
    "\n",
    "        nome.append(str(sem_ponto).split('-')[0])\n",
    "\n",
    "        data.append(date(int(ano), int(mes), int(dia)))\n",
    "\n",
    "\n",
    "\n",
    "\n",
    "    # Gera o dataframe com os dados para a transformação\n",
    "    dados = DataFrame({'nome': nome, 'data': data})\n",
    "\n",
    "\n",
    "\n",
    "    # Filtra por nome original do arquivo\n",
    "    dados = dados[dados.nome == arquivo[1]]\n",
    "\n",
    "    # Filtra por data mais atual\n",
    "    dados = dados[dados.data == dados.data.max()]\n",
    "\n",
    "\n",
    "    #separa a string com a data\n",
    "    data = str(str(dados.data).split('\\n')[0]).split(' ')[-1]\n",
    "    ano, mes, dia = data.split('-')\n",
    "\n",
    "\n",
    "    #Separa a string com o nome do arquivo mais recente\n",
    "    nome = str(dados.nome.values)[2:-2]\n",
    "\n",
    "    # Gera o nome do arquivo mais atual\n",
    "    nome_completo = nome + '-' + dia + '-' + mes + '-' + ano + '.xls'\n",
    "\n",
    "    return nome_completo"
   ]
  },
  {
   "cell_type": "code",
   "execution_count": 5,
   "metadata": {},
   "outputs": [
    {
     "name": "stdout",
     "output_type": "stream",
     "text": [
      "transformacao-19-06-2019.xls\n"
     ]
    }
   ],
   "source": [
    "# Teste\n",
    "print(retorna_nome(arquivo))"
   ]
  }
 ],
 "metadata": {
  "kernelspec": {
   "display_name": "Python 3",
   "language": "python",
   "name": "python3"
  },
  "language_info": {
   "codemirror_mode": {
    "name": "ipython",
    "version": 3
   },
   "file_extension": ".py",
   "mimetype": "text/x-python",
   "name": "python",
   "nbconvert_exporter": "python",
   "pygments_lexer": "ipython3",
   "version": "3.6.5"
  }
 },
 "nbformat": 4,
 "nbformat_minor": 2
}
