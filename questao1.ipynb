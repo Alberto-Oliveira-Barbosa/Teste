{
 "cells": [
  {
   "cell_type": "markdown",
   "metadata": {},
   "source": [
    "## Questão 1 \n",
    "\n",
    "\n",
    "*Tabela: Person – A PrimaryKey é PersonId *\n",
    "\n",
    "\n",
    "|Column Name|Type   |\n",
    "|---        |---    |\n",
    "|PersonId   |int    |\n",
    "|FirstName  |varchar|\n",
    "|LastName   |varchar|\n",
    "\n",
    "\n",
    "Tabela: Address – A PrimaryKey é AddressId \n",
    "\n",
    "|Column Name|Type    |\n",
    "|---        |---     |\n",
    "|AddressId  |int     |\n",
    "|PersonId   |int     |\n",
    "|City       |varchar |\n",
    "|State      |varchar |\n",
    "\n",
    "---\n",
    "\n",
    "\n",
    "Escreva uma query SQL para dar as seguintes informações para cada pessoa da tabela Person, independente se há ou não endereço para cada uma dessas pessoas: \n",
    "FirstName, LastName, City, State \n",
    "\n",
    "|FirstName |LastName |City          |State| \n",
    "|---       |---      |---           |---  |\n",
    "|Yaissa    |Campos   |Rio de Janeiro| RJ  |\n",
    "|Matheus   |Castro   |              |     |\n",
    "|Arthur    |         |São Paulo     | SP  |\n",
    "\n",
    "---"
   ]
  },
  {
   "cell_type": "code",
   "execution_count": null,
   "metadata": {},
   "outputs": [],
   "source": [
    "#Resposta\n",
    "\n",
    "SELECT\n",
    "    ISNULL(p.FirstName, ' '), ISNULL(p.LastName, ' '), ISNULL(a.City, ' '), ISNULL(a.State, ' ')\n",
    "\n",
    "FROM Person AS p\n",
    "INNER JOIN Address AS a ON p.PersonId = a.PersonId"
   ]
  }
 ],
 "metadata": {
  "kernelspec": {
   "display_name": "Python 3",
   "language": "python",
   "name": "python3"
  },
  "language_info": {
   "codemirror_mode": {
    "name": "ipython",
    "version": 3
   },
   "file_extension": ".py",
   "mimetype": "text/x-python",
   "name": "python",
   "nbconvert_exporter": "python",
   "pygments_lexer": "ipython3",
   "version": "3.6.5"
  }
 },
 "nbformat": 4,
 "nbformat_minor": 2
}
